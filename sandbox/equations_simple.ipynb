{
 "cells": [
  {
   "cell_type": "markdown",
   "metadata": {},
   "source": [
    "# Tolerance solver"
   ]
  },
  {
   "cell_type": "code",
   "execution_count": 2,
   "metadata": {},
   "outputs": [],
   "source": [
    "import sympy\n",
    "import math\n",
    "import numpy as np\n",
    "import matplotlib.pyplot as plt"
   ]
  },
  {
   "cell_type": "markdown",
   "metadata": {},
   "source": [
    "**Goal:** \n",
    "> Define a method for solving mathematical equations within `ato` code and assign tolerances to the components according to a tolerance required on the output value of the equation.\n",
    "\n",
    "## Assumptions\n",
    "\n",
    "In this first step, we are going to assume that the tolerance of the input variables follows a gaussian distribution and that there is no covariance between the input values variances.\n",
    "\n",
    "For the record, if there was covariance, the equation would look like this:\n",
    "\n",
    "$$\n",
    "\\sigma_F^2 \\approx \\sum_{i=1}^{n} \\left( \\frac{\\partial F}{\\partial x_i} \\right)^2 \\sigma_{x_i}^2 + 2\\sum_{i=1}^{n-1}\\sum_{j=i+1}^{n} \\left( \\frac{\\partial F}{\\partial x_i} \\frac{\\partial F}{\\partial x_j} \\right) \\text{Cov}(x_i, x_j)\n",
    "$$\n",
    "\n",
    "Where:\n",
    "- $ F(x_1, x_2, ..., x_n) $ is the output function.\n",
    "- $ \\sigma_F $ is the uncertainty in the output.\n",
    "- $ \\frac{\\partial F}{\\partial x_i} $ is the partial derivative of $ F $ with respect to the variable $ x_i $.\n",
    "- $ \\sigma_{x_i} $ is the uncertainty in the variable $ x_i $.\n",
    "- $ \\text{Cov}(x_i, x_j) $ is the covariance between variables $ x_i $ and $ x_j $.\n",
    "\n",
    "In our case, we can simplify in the following ways:\n",
    "\n",
    "- We are dealing with square distribution of the tolerance, so we will remove the square terms\n",
    "- We don't have covariance between the terms\n",
    "\n",
    "So we get:\n",
    "\n",
    "$$\n",
    "tol_F \\approx \\sum_{i=1}^{n} \\left( \\frac{\\partial F}{\\partial x_i} \\right) tol_{x_i}\n",
    "$$\n",
    "\n"
   ]
  },
  {
   "cell_type": "markdown",
   "metadata": {},
   "source": [
    "## Dealing with elasticity\n",
    "\n",
    "because we are dealing with tolerance in % rather than just a value, we need to scale the partial derivative accordingly. There is some additional documentation ([here](https://en.wikipedia.org/wiki/Output_elasticity) and [here](https://en.wikipedia.org/wiki/Elasticity_of_a_function)).\n",
    "\n",
    "Just for the record, in math they say:\n",
    "$$\n",
    "Ef(a) = \\frac{a}{f(a)}f'(a)\n",
    "$$\n",
    "and in economics they say:\n",
    "$$\n",
    "E_Q = \\frac{\\partial Q}{\\partial \\textbf{x}} \\cdot \\frac{\\textbf{x}}{Q}\n",
    "$$\n",
    "where $\\textbf{x}$ represents the inputs and $Q$, the output.\n",
    "\n",
    "So if we inject this back in the equation above, we get:\n",
    "\n",
    "$$\n",
    "\\frac{tol_F}{F(x_1, x_2, ..., x_n)} \\approx \\sum_{i=1}^{n} \\frac{\\partial F}{\\partial x_i} \\frac{x_i}{F(x_1, x_2, ..., x_n)} \\frac{tol_{x_i}}{x_i}\n",
    "$$\n",
    "\n",
    "Where $ \\frac{x_i}{F(x_1, x_2, ..., x_n)} \\frac{tol_{x_i}}{x_i}$ is the tolerance in %."
   ]
  },
  {
   "cell_type": "markdown",
   "metadata": {},
   "source": [
    "## Applying to a voltage divider\n",
    "\n",
    "But first, let's start by solving a simple voltage divider.\n",
    "\n",
    "$$\n",
    "V_{\\text{out}} = V_{\\text{in}} \\times \\frac{R_2}{R_1 + R_2}\n",
    "$$\n",
    "$$\n",
    "R_{\\text{total}} = R_1 + R_2\n",
    "$$\n",
    "\n",
    "Say that the user is asking for the following requirements:\n",
    "- $ V_{\\text{in}} = 5V \\pm 10\\% $\n",
    "- $ V_{\\text{out}} = 1.22V $\n",
    "- $ R_{\\text{total}} = 10kΩ \\pm 10\\% $\n",
    "\n",
    "We'd like to figure out the required value for $R_1$ and $R_2$"
   ]
  },
  {
   "cell_type": "code",
   "execution_count": 91,
   "metadata": {},
   "outputs": [
    {
     "name": "stdout",
     "output_type": "stream",
     "text": [
      "{R1: Eq(R1, Rtot*(Vin - Vout)/Vin), R2: Eq(R2, Rtot*Vout/Vin), Vin: True, Vout: True, Rtot: True}\n"
     ]
    },
    {
     "ename": "KeyError",
     "evalue": "R1",
     "output_type": "error",
     "traceback": [
      "\u001b[0;31m---------------------------------------------------------------------------\u001b[0m",
      "\u001b[0;31mKeyError\u001b[0m                                  Traceback (most recent call last)",
      "Cell \u001b[0;32mIn[91], line 62\u001b[0m\n\u001b[1;32m     59\u001b[0m     eqs[eq] \u001b[38;5;241m=\u001b[39m eqs[eq]\u001b[38;5;241m.\u001b[39msubs(substitutes)\n\u001b[1;32m     61\u001b[0m diffs \u001b[38;5;241m=\u001b[39m {}\n\u001b[0;32m---> 62\u001b[0m \u001b[43mdiffs\u001b[49m\u001b[43m[\u001b[49m\u001b[43mR1\u001b[49m\u001b[43m]\u001b[49m[Vout] \u001b[38;5;241m=\u001b[39m {compute_full_partial_derivative(eqs[R1], Vout)}\n\u001b[1;32m     63\u001b[0m diffs[R2][Vout] \u001b[38;5;241m=\u001b[39m {compute_full_partial_derivative(eqs[R2], Vout)}\n\u001b[1;32m     64\u001b[0m \u001b[38;5;28mprint\u001b[39m(diffs)\n",
      "\u001b[0;31mKeyError\u001b[0m: R1"
     ]
    }
   ],
   "source": [
    "vin_percent_tolerance = 0.1\n",
    "Rtotal_percent_tolerance = 0.1\n",
    "r1 = 1000\n",
    "\n",
    "R1, R2, Vin, Vout, Rtot = sympy.symbols('R1 R2 Vin Vout Rtot')\n",
    "\n",
    "equation1 = sympy.Eq(Vin, Vout * (R1 + R2) / R2)\n",
    "equation2 = sympy.Eq(Rtot, R1 + R2)\n",
    "\n",
    "symbols_in_equations = [R1, R2, Vin, Vout, Rtot]\n",
    "\n",
    "substitutes = {}\n",
    "eq1_sub = equation1.subs(substitutes)\n",
    "eq2_sub = equation2.subs(substitutes)\n",
    "solutions = sympy.solve((eq1_sub, eq2_sub), (R1, R2, Vin, Vout, Rtot))\n",
    "\n",
    "completed_solutions = substitutes\n",
    "#print(solutions)\n",
    "eqs = {}\n",
    "for sols in solutions:\n",
    "    for index, solution in enumerate(sols):\n",
    "        eqs[symbols_in_equations[index]] = sympy.Eq(symbols_in_equations[index], solution)\n",
    "        #print(f\"solution for {solution} = {solutions[solution]}\")\n",
    "        #completed_solutions[solution] = solutions[solution]\n",
    "        #print(f\"solution for {solution} = {solutions[solution]:.0f} Ω\")\n",
    "print(eqs)\n",
    "\n",
    "def compute_full_partial_derivative(equation, respect_to_var):\n",
    "    full_equation = sympy.Eq(0, equation.rhs - equation.lhs)\n",
    "    partial_derivative = sympy.diff(full_equation.rhs, respect_to_var)\n",
    "    return sympy.Eq(partial_derivative, respect_to_var)\n",
    "\n",
    "# diffs = {}\n",
    "# for sols in solutions:\n",
    "#     for index, solution in enumerate(sols):\n",
    "#         dif_line = {}\n",
    "#         for dd in symbols_in_equations:\n",
    "#             if dd == symbols_in_equations[index]:\n",
    "#                 dif_line[dd] = 1\n",
    "#             elif eqs[symbols_in_equations[index]] != True:\n",
    "#                 dif_line[dd] = compute_full_partial_derivative(eqs[symbols_in_equations[index]], dd)\n",
    "#             else:\n",
    "#                 dif_line[dd] = 0\n",
    "#             #print(f\"diff of {eqs[symbols_in_equations[index]]} with respect to {dd} = {dif_line[dd]}\")\n",
    "#         diffs[symbols_in_equations[index]] = dif_line\n",
    "# for a in diffs:\n",
    "#     for b in diffs[a]:\n",
    "#         print(f\"diffs[{a}][{b}] = {diffs[a][b]}\")\n",
    "\n",
    "\n",
    "Vref = sympy.symbols('Vref')\n",
    "equation3 = sympy.Eq(Vref, Vin)\n",
    "\n",
    "Rtotal = 10000\n",
    "V_out = 1.22\n",
    "substitutes = {Rtot: Rtotal, Vout: V_out}\n",
    "\n",
    "for index, eq in enumerate(eqs):\n",
    "    eqs[eq] = eqs[eq].subs(substitutes)\n",
    "\n",
    "for index, eq in enumerate(eqs):\n",
    "    if eqs[eq] != True:\n",
    "        eqs[eq] = sympy.Eq(sympy.solve((eqs[eq], equation3), (R1, R2, Vin, Vout, Rtot, Vref))[0][index], eq)\n",
    "\n",
    "print(eqs)\n",
    "\n",
    "V_ref = 5\n",
    "substitutes = {Vref: V_ref}\n",
    "\n",
    "for index, eq in enumerate(eqs):\n",
    "    eqs[eq] = eqs[eq].subs(substitutes)\n",
    "\n",
    "print(eqs)\n",
    "# for a in diffs:\n",
    "#     for b in diffs[a]:\n",
    "#         print(f\"diffs[{a}][{b}] = {diffs[a][b]}\")\n",
    "\n",
    "\n",
    "pd_r1_eq1 = compute_full_partial_derivative(equation1, R1)\n",
    "pd_r2_eq1 = compute_full_partial_derivative(equation1, R2)\n",
    "\n",
    "pd_r1_eq2 = compute_full_partial_derivative(equation2, R1)\n",
    "pd_r2_eq2 = compute_full_partial_derivative(equation2, R2)\n",
    "\n",
    "num_pd_r1_eq1 = abs(pd_r1_eq1.subs(completed_solutions))\n",
    "num_pd_r2_eq1 = abs(pd_r2_eq1.subs(completed_solutions))\n",
    "\n",
    "num_pd_r1_eq2 = abs(pd_r1_eq2.subs(completed_solutions))\n",
    "num_pd_r2_eq2 = abs(pd_r2_eq2.subs(completed_solutions))\n",
    "\n",
    "# print(f\"num_pd_r1_eq1 = {num_pd_r1_eq1}\")\n",
    "# print(f\"num_pd_r2_eq1 = {num_pd_r2_eq1}\")\n",
    "# print(f\"num_pd_r1_eq2 = {num_pd_r1_eq2}\")\n",
    "# print(f\"num_pd_r2_eq2 = {num_pd_r2_eq2}\")"
   ]
  },
  {
   "cell_type": "markdown",
   "metadata": {},
   "source": []
  },
  {
   "cell_type": "markdown",
   "metadata": {},
   "source": [
    "Now we'd like to find the tolerance value to apply to the components so that the cost is the lowest. To be able to answer that, we need to understand what the cost of a tighther tolerance is. Here are some example of equations that we could use to evalutate this:\n",
    "\n",
    "1. Linear Tolerance Cost Function:\n",
    "   $$ \\text{cost} = C(\\sigma_{x_i}) = -a\\sigma_{x_i} + b $$\n",
    "\n",
    "2. Reciprocal Tolerance Cost Function:\n",
    "   $$ \\text{cost} = C(\\sigma_{x_i}) = \\frac{1}{\\sigma_{x_i} \\cdot a} $$\n",
    "\n",
    "3. Exponential Tolerance Cost Function:\n",
    "   $$ \\text{cost} = C(\\sigma_{x_i}) = b + e^{-k \\sigma_{x_i}} $$\n",
    "\n",
    "4. Logarithmic Tolerance Cost Function:\n",
    "   $$ \\text{cost} = C(\\sigma_{x_i}) = \\log\\left(\\frac{b}{\\sigma_{x_i}}\\right) + k $$\n"
   ]
  },
  {
   "cell_type": "code",
   "execution_count": 15,
   "metadata": {},
   "outputs": [
    {
     "data": {
      "text/plain": [
       "(0.0, 10.0)"
      ]
     },
     "execution_count": 15,
     "metadata": {},
     "output_type": "execute_result"
    },
    {
     "data": {
      "image/png": "[encoded data removed]",
      "text/plain": [
       "<Figure size 640x480 with 1 Axes>"
      ]
     },
     "metadata": {},
     "output_type": "display_data"
    }
   ],
   "source": [
    "def tolerance_cost_function_lin(x, a, b):\n",
    "    return -a*x + b\n",
    "\n",
    "def tolerance_cost_function_rec(x, a):\n",
    "    return 1/(x * a)\n",
    "\n",
    "def tolerance_cost_function_exp(x, k, b):\n",
    "    return b + math.e**(-k * x)\n",
    "\n",
    "def tolerance_cost_function_log(x, b, k):\n",
    "    return math.log(b/x) + k\n",
    "\n",
    "lin = []\n",
    "rec = []\n",
    "exp = []\n",
    "log = []\n",
    "x = np.linspace(0, 1, 1000)\n",
    "x = x[x != 0]\n",
    "for tolerance  in x:\n",
    "    lin.append(tolerance_cost_function_lin(tolerance, 1, 1))\n",
    "    rec.append(tolerance_cost_function_rec(tolerance, 1))\n",
    "    exp.append(tolerance_cost_function_exp(tolerance, 1, 1))\n",
    "    log.append(tolerance_cost_function_log(tolerance, 1, 1))\n",
    "\n",
    "plt.plot(x, lin, label=\"linear\")\n",
    "plt.plot(x, rec, label=\"reciprocal\")\n",
    "plt.plot(x, exp, label=\"exponential\")\n",
    "plt.plot(x, log, label=\"logarithmic\")\n",
    "plt.ylim(0,10)"
   ]
  },
  {
   "cell_type": "markdown",
   "metadata": {},
   "source": [
    "## Finding the cheapest set of tolerances\n",
    "\n",
    "We can solve this using the lagrangian multiplier.\n",
    "\n",
    "Our constraint is:\n",
    "$$\n",
    "g(x_1, x_2, ..., x_n) = 0 = \\sum_{i=1}^{n} \\left(\\left( \\frac{\\partial F}{\\partial x_i} \\frac{x_i}{F(x_1, ..., x_n)} \\right)^2 \\frac{\\sigma_{x_i}}{x_i}^2\\right) - \\frac{\\sigma_F^2}{F(x_1, ..., x_n)}\n",
    "$$\n",
    "\n",
    "and our objective function that we want to minimize is:\n",
    "$$\n",
    "f(x_1, x_2, ..., x_n) = \\text{Total Cost} = \\sum_{i=1}^{n} C(\\sigma_{x_i})\n",
    "$$\n",
    "Our Lagragina becomes:\n",
    "$$\n",
    "\\mathcal{L}(x_1, x_2, ..., x_n, \\lambda) = f(x_1, x_2, ..., x_n) - \\lambda \\cdot g(x_1, x_2, ..., x_n)\n",
    "$$\n",
    "\n",
    "With, $\\lambda$ is the Lagrangian multiplier.\n",
    "\n",
    "Grant Sanderson has an awesome video about it [here](https://www.youtube.com/watch?v=yuqB-d5MjZA).\n",
    "\n",
    "\n",
    "To find the optimal points, we solve the system of equations formed by taking the partial derivatives of $ \\mathcal{L} $ with respect to each variable $ x_i $ and the multiplier $ \\lambda $, and setting them equal to zero:\n",
    "\n",
    "$$\n",
    "\\frac{\\partial \\mathcal{L}}{\\partial x_1} = 0, \\quad \\frac{\\partial \\mathcal{L}}{\\partial x_2} = 0, \\quad ..., \\quad \\frac{\\partial \\mathcal{L}}{\\partial x_n} = 0, \\quad \\frac{\\partial \\mathcal{L}}{\\partial \\lambda} = 0\n",
    "$$\n",
    "\n",
    "Solving this system of equations yields the values of $ x_1, x_2, ..., x_n $ and $ \\lambda $ that optimize the original function subject to the constraint."
   ]
  },
  {
   "cell_type": "markdown",
   "metadata": {},
   "source": [
    "## Applying the lagrangian to the voltage divider example"
   ]
  },
  {
   "cell_type": "code",
   "execution_count": 15,
   "metadata": {},
   "outputs": [
    {
     "name": "stdout",
     "output_type": "stream",
     "text": [
      "pd_r1_eq1 = Vout/R2\n",
      "pd_r2_eq1 = Vout/R2 - Vout*(R1 + R2)/R2**2\n",
      "pd_r1_eq2 = 1\n",
      "pd_r2_eq2 = 1\n"
     ]
    },
    {
     "ename": "NameError",
     "evalue": "name 'tolerance_cost_function_rec' is not defined",
     "output_type": "error",
     "traceback": [
      "\u001b[0;31m---------------------------------------------------------------------------\u001b[0m",
      "\u001b[0;31mNameError\u001b[0m                                 Traceback (most recent call last)",
      "Cell \u001b[0;32mIn[15], line 35\u001b[0m\n\u001b[1;32m     32\u001b[0m k1, k2, sigma_y_sq \u001b[38;5;241m=\u001b[39m sympy\u001b[38;5;241m.\u001b[39msymbols(\u001b[38;5;124m'\u001b[39m\u001b[38;5;124mk1 k2 sigma_y_sq\u001b[39m\u001b[38;5;124m'\u001b[39m)  \u001b[38;5;66;03m# constants\u001b[39;00m\n\u001b[1;32m     34\u001b[0m \u001b[38;5;66;03m# Objective function (total cost)\u001b[39;00m\n\u001b[0;32m---> 35\u001b[0m total_cost \u001b[38;5;241m=\u001b[39m \u001b[43mtolerance_cost_function_rec\u001b[49m(sympy\u001b[38;5;241m.\u001b[39msqrt(sigma_x1_sq), \u001b[38;5;241m1\u001b[39m) \u001b[38;5;241m+\u001b[39m tolerance_cost_function_rec(sympy\u001b[38;5;241m.\u001b[39msqrt(sigma_x2_sq), \u001b[38;5;241m1\u001b[39m)\n\u001b[1;32m     37\u001b[0m constraint \u001b[38;5;241m=\u001b[39m (rel_num_pd_r1_eq1\u001b[38;5;241m*\u001b[39m\u001b[38;5;241m*\u001b[39m\u001b[38;5;241m2\u001b[39m \u001b[38;5;241m*\u001b[39m sigma_x1_sq \u001b[38;5;241m+\u001b[39m rel_num_pd_r2_eq1\u001b[38;5;241m*\u001b[39m\u001b[38;5;241m*\u001b[39m\u001b[38;5;241m2\u001b[39m \u001b[38;5;241m*\u001b[39m sigma_x2_sq) \u001b[38;5;241m-\u001b[39m vin_percent_tolerance\u001b[38;5;241m*\u001b[39m\u001b[38;5;241m*\u001b[39m\u001b[38;5;241m2\u001b[39m\n\u001b[1;32m     39\u001b[0m \u001b[38;5;66;03m# Lagrangian\u001b[39;00m\n",
      "\u001b[0;31mNameError\u001b[0m: name 'tolerance_cost_function_rec' is not defined"
     ]
    }
   ],
   "source": [
    "# partial derivatives\n",
    "pd_r1_eq1 = sympy.diff(equation1.rhs, R1)\n",
    "pd_r2_eq1 = sympy.diff(equation1.rhs, R2)\n",
    "\n",
    "pd_r1_eq2 = sympy.diff(equation2.rhs, R1)\n",
    "pd_r2_eq2 = sympy.diff(equation2.rhs, R2)\n",
    "\n",
    "# Partial derivatives evaluated at the soltion\n",
    "num_pd_r1_eq1 = abs(pd_r1_eq1.subs({Vout: V_out, R1: solutions[R1], R2: solutions[R2]}))\n",
    "num_pd_r2_eq1 = abs(pd_r2_eq1.subs({Vout: V_out, R1: solutions[R1], R2: solutions[R2]}))\n",
    "\n",
    "num_pd_r1_eq2 = abs(pd_r1_eq2.subs({Rtot: Rtotal, R1: solutions[R1], R2: solutions[R2]}))\n",
    "num_pd_r2_eq2 = abs(pd_r2_eq2.subs({Rtot: Rtotal, R1: solutions[R1], R2: solutions[R2]}))\n",
    "\n",
    "# Elasticitcity at the solution since we deal with tolerances in %\n",
    "rel_num_pd_r1_eq1 = num_pd_r1_eq1 * solutions[R1]/V_in\n",
    "rel_num_pd_r2_eq1 = num_pd_r2_eq1 * solutions[R2]/V_in\n",
    "\n",
    "rel_num_pd_r1_eq2 = num_pd_r1_eq2 * solutions[R1]/Rtotal\n",
    "rel_num_pd_r2_eq2 = num_pd_r2_eq2 * solutions[R2]/Rtotal\n",
    "\n",
    "# Solving with lagrangian\n",
    "# Define the symbols\n",
    "sigma_x1_sq = sympy.symbols('sigma_x1_sq', positive=True)\n",
    "sigma_x2_sq = sympy.symbols('sigma_x2_sq', positive=True)\n",
    "lambda_ = sympy.symbols('lambda_')  # Lagrange multiplier\n",
    "k1, k2, sigma_y_sq = sympy.symbols('k1 k2 sigma_y_sq')  # constants\n",
    "\n",
    "# Objective function (total cost)\n",
    "total_cost = tolerance_cost_function_rec(sympy.sqrt(sigma_x1_sq), 1) + tolerance_cost_function_rec(sympy.sqrt(sigma_x2_sq), 1)\n",
    "\n",
    "constraint = (rel_num_pd_r1_eq1**2 * sigma_x1_sq + rel_num_pd_r2_eq1**2 * sigma_x2_sq) - vin_percent_tolerance**2\n",
    "\n",
    "# Lagrangian\n",
    "L = lambda_ * constraint - total_cost\n",
    "\n",
    "# Equation system\n",
    "eq1 = sympy.diff(L, sigma_x1_sq)\n",
    "eq2 = sympy.diff(L, sigma_x2_sq)\n",
    "eq3 = sympy.diff(L, lambda_) # here is seem that total cost disapears since it's not a function of lambda\n",
    "\n",
    "solution = sympy.solve((eq1, eq2, eq3), (sigma_x1_sq, sigma_x2_sq, lambda_))\n",
    "\n",
    "equation_outline = equation1.subs({Vout: 1.22})\n",
    "for sol in solution:\n",
    "    print(f\"tolerance on R1 = {math.sqrt(sol[0])* 100:.1f}%\")\n",
    "    print(f\"tolerance on R2 = {math.sqrt(sol[1])* 100:.1f}%\")"
   ]
  },
  {
   "cell_type": "markdown",
   "metadata": {},
   "source": [
    "## Another example: An RC Filter"
   ]
  },
  {
   "cell_type": "code",
   "execution_count": 32,
   "metadata": {},
   "outputs": [
    {
     "name": "stdout",
     "output_type": "stream",
     "text": [
      "tolerance required at the output: 10.0%\n",
      "tolerance on R = 7.1%\n",
      "tolerance on C = 7.1%\n",
      "allowed values for fc are between 9.0 and 11.0\n",
      "Minimum value: 8.72279633102892\n",
      "Maximum value: 11.5797212821627\n"
     ]
    }
   ],
   "source": [
    "def print_outline(symbol_1, value_1, tolerance_1, symbol_2, value_2, tolerance_2, equation, symbol_output, value_output, tolerance_output):\n",
    "    print(\"allowed values for\", symbol_output, \"are between\", value_output * (1 - tolerance_output), \"and\", value_output * (1 + tolerance_output))\n",
    "    options = [[1,1], [-1,-1], [-1, 1], [1,-1]]\n",
    "    outline_values = []\n",
    "    for option in options:\n",
    "        subbed_equation = equation.subs({symbol_1: (value_1 + value_1 * tolerance_1 * option[0]), symbol_2: (value_2 + value_2 * tolerance_2 * option[1])})\n",
    "        outline_values.append(sympy.solve(subbed_equation)[0])\n",
    "    print(\"Minimum value:\", min(outline_values))\n",
    "    print(\"Maximum value:\", max(outline_values))\n",
    "\n",
    "R, C, FC = sympy.symbols('R C fc')\n",
    "fc = 10  # Cutoff frequency in Hz\n",
    "fc_tolerance = 0.1\n",
    "R_value = 1000\n",
    "\n",
    "cutoff_equration = sympy.Eq(FC, 1 / (2 * sympy.pi * R * C))\n",
    "cutoff_eq = cutoff_equration.subs(FC, fc)\n",
    "\n",
    "# Solve the equation for C\n",
    "solution_for_C = sympy.solve(cutoff_eq.subs(R, R_value), C)\n",
    "\n",
    "pd_r = sympy.diff(cutoff_eq.rhs, R)\n",
    "pd_c = sympy.diff(cutoff_eq.rhs, C)\n",
    "\n",
    "num_pd_r = abs(pd_r.subs({R: R_value, C: solution_for_C[0]}))\n",
    "num_pd_c = abs(pd_c.subs({R: R_value, C: solution_for_C[0]}))\n",
    "\n",
    "# Finding the relative partial derivative, since we are dealing with tolerances in %. See elasticity comment above.\n",
    "rel_num_pd_r = num_pd_r * R_value/fc\n",
    "rel_num_pd_c = num_pd_c * solution_for_C[0]/fc\n",
    "\n",
    "# Solving with lagrangian\n",
    "constraint = (rel_num_pd_r**2 * sigma_x1_sq + rel_num_pd_c**2 * sigma_x2_sq) - fc_tolerance**2\n",
    "total_cost = tolerance_cost_function_rec(sympy.sqrt(sigma_x1_sq), 1) + tolerance_cost_function_rec(sympy.sqrt(sigma_x2_sq), 1)\n",
    "\n",
    "L = lambda_ * constraint - total_cost\n",
    "\n",
    "# System of equations from the partial derivatives of L\n",
    "eq1 = sympy.diff(L, sigma_x1_sq)\n",
    "eq2 = sympy.diff(L, sigma_x2_sq)\n",
    "eq3 = sympy.diff(L, lambda_) # here is seem that total cost disapears since it's not a function of lambda\n",
    "\n",
    "# Solve the system of equations\n",
    "solution = sympy.solve((eq1, eq2, eq3), (sigma_x1_sq, sigma_x2_sq, lambda_))\n",
    "\n",
    "print(f\"tolerance required at the output: {fc_tolerance * 100}%\")\n",
    "for sol in solution:\n",
    "    print(f\"tolerance on R = {math.sqrt(sol[0])* 100:.1f}%\")\n",
    "    print(f\"tolerance on C = {math.sqrt(sol[1])* 100:.1f}%\")\n",
    "    print_outline(C, solution_for_C[0], math.sqrt(sol[0]), R, R_value, math.sqrt(sol[1]), cutoff_equration, FC, fc, fc_tolerance)\n"
   ]
  },
  {
   "cell_type": "markdown",
   "metadata": {},
   "source": [
    "## Another example: Butterworth LC Filter"
   ]
  },
  {
   "cell_type": "code",
   "execution_count": 31,
   "metadata": {},
   "outputs": [
    {
     "name": "stdout",
     "output_type": "stream",
     "text": [
      "tolerance required at the output: 2.0%\n",
      "tolerance on L = 3.6%\n",
      "tolerance on C = 1.7%\n",
      "allowed values for fc are between 980.0 and 1020.0\n",
      "Minimum value: 974.169537671914\n",
      "Maximum value: 1027.33737348737\n"
     ]
    }
   ],
   "source": [
    "L, C, FC = sympy.symbols('L C fc', positive=True)\n",
    "fc = 1000\n",
    "fc_tolerance = 0.02\n",
    "omega_c = 2 * sympy.pi * fc\n",
    "L_value = 10e-3  # 10 mH\n",
    "\n",
    "# Equation for LC filter cutoff frequency\n",
    "equation_lc = sympy.Eq(FC, 1/(sympy.sqrt(L*C) * 2 *sympy.pi))\n",
    "eq_lc = equation_lc.subs(FC, fc)\n",
    "\n",
    "solution_for_C = sympy.solve(eq_lc.subs(L, L_value), C)\n",
    "\n",
    "pd_l = sympy.diff(eq_lc.rhs, L)\n",
    "pd_c = sympy.diff(eq_lc.rhs, C)\n",
    "\n",
    "num_pd_l = abs(pd_l.subs({L: L_value, C: solution_for_C[0]}))\n",
    "num_pd_c = abs(pd_c.subs({L: L_value, C: solution_for_C[0]}))\n",
    "\n",
    "# Finding the relative partial derivative, since we are dealing with tolerances in %. See elasticity comment above.\n",
    "rel_num_pd_l = num_pd_l * L_value/fc\n",
    "rel_num_pd_c = num_pd_c * solution_for_C[0]/fc\n",
    "\n",
    "# Solving with lagrangian\n",
    "constraint = (rel_num_pd_l**2 * sigma_x1_sq + rel_num_pd_c**2 * sigma_x2_sq) - fc_tolerance**2\n",
    "total_cost = tolerance_cost_function_rec(sympy.sqrt(sigma_x1_sq), 1) + tolerance_cost_function_rec(sympy.sqrt(sigma_x2_sq), 10)\n",
    "\n",
    "La = lambda_ * constraint - total_cost\n",
    "\n",
    "# System of equations from the partial derivatives of L\n",
    "eq1 = sympy.diff(La, sigma_x1_sq)\n",
    "eq2 = sympy.diff(La, sigma_x2_sq)\n",
    "eq3 = sympy.diff(La, lambda_) # here is seem that total cost disapears since it's not a function of lambda\n",
    "\n",
    "# Solve the system of equations\n",
    "solution = sympy.solve((eq1, eq2, eq3), (sigma_x1_sq, sigma_x2_sq, lambda_))\n",
    "\n",
    "print(f\"tolerance required at the output: {fc_tolerance * 100}%\")\n",
    "for sol in solution:\n",
    "    print(f\"tolerance on L = {math.sqrt(sol[0])* 100:.1f}%\")\n",
    "    print(f\"tolerance on C = {math.sqrt(sol[1])* 100:.1f}%\")\n",
    "    print_outline(C, solution_for_C[0], math.sqrt(sol[0]), L, L_value, math.sqrt(sol[1]), equation_lc, FC, fc, fc_tolerance)"
   ]
  },
  {
   "cell_type": "markdown",
   "metadata": {},
   "source": [
    "## Actually looking for components\n",
    "\n",
    "Say we had found tolerance requirements for all components and our goal is to select components, there could be several stragies we apply:\n",
    "\n",
    "1) **Dumb:** Only select components that fall within the bounds we set\n",
    "2) **Less dumb:** For components slightly outside the tolerance band, evaluate the cost impact to other components and decide whether the cost down is worth it (ie. the cost up on all the other components is less than the cost down)\n",
    "\n",
    "-> Let's evaluate the less dumb approach below:\n",
    "\n",
    "We have:\n",
    "$$\n",
    "\\Delta \\text{\\$}_{\\text{selection}} = \\$_{\\text{selected component}} - C(\\sigma_{x_i})\n",
    "$$\n",
    "$$\n",
    "\\Delta \\sigma_{\\text{selection}} = \\sigma_{\\text{selected component}} - \\sigma_{x_i}\n",
    "$$\n",
    "\n",
    "where $C(\\sigma_{x_i})$ was the solution found above and $\\sigma_{\\text{selected component}} > \\sigma_{x_i}$\n",
    "\n",
    "We also know that:\n",
    "\n",
    "$$\n",
    "\\sigma_F^2 = \\left(\\frac{\\partial F}{\\partial x_m} \\frac{x_m}{F(x_1, x_2, ..., x_n)}\\right)^2 (\\sigma_{x_m} + \\Delta \\sigma_{\\text{selection}})^2 + \\sum_{\\substack{i=1 \\\\ i \\neq m}}^{n} \\left( \\frac{\\partial F}{\\partial x_i} \\frac{x_i}{F(x_1, x_2, ..., x_n)} \\right)^2 (\\sigma_{x_i} + \\Delta \\sigma_{x_i})^2\n",
    "$$\n",
    "\n",
    "To simplify let's use the following notation for the elasticity of the function:\n",
    "$$\n",
    "\\frac{\\partial F}{\\partial x_m} \\cdot \\frac{x_n}{F(x_1, x_2, ..., x_n)} = E_{F_n}\n",
    "$$\n"
   ]
  },
  {
   "cell_type": "markdown",
   "metadata": {},
   "source": [
    "Cleaned up we have:\n",
    "\n",
    "$$\n",
    "\\sigma_F^2 = E_{F_m}^2 (\\sigma_{x_m} + \\Delta \\sigma_{\\text{selection}})^2 + \\sum_{\\substack{i=1 \\\\ i \\neq m}}^{n} E_{F_i}^2 (\\sigma_{x_i} + \\Delta \\sigma_{x_i})^2\n",
    "$$"
   ]
  },
  {
   "cell_type": "markdown",
   "metadata": {},
   "source": [
    "Yielding:\n",
    "\n",
    "$$\n",
    "\\sigma_F^2 = E_{F_m}^2 \\sigma_{x_m}^2 + E_{F_m}^2 * 2\\sigma_{x_m} \\Delta \\sigma_{\\text{selection}} + E_{F_m}^2 \\Delta \\sigma_{\\text{selection}}^2 + \\sum_{\\substack{i=1 \\\\ i \\neq m}}^{n} \\left(E_{F_i}^2\\sigma_{x_i}^2 + E_{F_i}^2 \\cdot 2\\sigma_{x_i}\\Delta \\sigma_{x_i} + E_{F_i}^2\\Delta \\sigma_{x_i}^2\\right)\n",
    "$$\n",
    "\n",
    "Yielding again:\n",
    "\n",
    "$$\n",
    "\\sigma_F^2 = \\sum_{\\substack{i=1}}^{n} E_{F_i}^2 \\sigma_{x_i}^2 + E_{F_m}^2 * 2\\sigma_{x_m} \\Delta \\sigma_{\\text{selection}} + E_{F_m}^2 \\Delta \\sigma_{\\text{selection}}^2 + \\sum_{\\substack{i=1 \\\\ i \\neq m}}^{n} \\left(E_{F_i}^2 \\cdot 2\\sigma_{x_i}\\Delta \\sigma_{x_i} + E_{F_i}^2\\Delta \\sigma_{x_i}^2\\right)\n",
    "$$\n",
    "\n",
    "Yielding once more by substraction on both sides:\n",
    "$$\n",
    "\\sum_{\\substack{i=1 \\\\ i \\neq m}}^{n} \\left(E_{F_i}^2 \\cdot 2\\sigma_{x_i}\\Delta \\sigma_{x_i} + E_{F_i}^2\\Delta \\sigma_{x_i}^2\\right) + E_{F_m}^2 * 2\\sigma_{x_m} \\Delta \\sigma_{\\text{selection}} + E_{F_m}^2 \\Delta \\sigma_{\\text{selection}}^2 = 0\n",
    "$$"
   ]
  }
 ],
 "metadata": {
  "kernelspec": {
   "display_name": ".venv",
   "language": "python",
   "name": "python3"
  },
  "language_info": {
   "codemirror_mode": {
    "name": "ipython",
    "version": 3
   },
   "file_extension": ".py",
   "mimetype": "text/x-python",
   "name": "python",
   "nbconvert_exporter": "python",
   "pygments_lexer": "ipython3",
   "version": "3.11.1"
  }
 },
 "nbformat": 4,
 "nbformat_minor": 2
}
